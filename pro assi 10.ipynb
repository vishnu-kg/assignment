{
 "cells": [
  {
   "cell_type": "markdown",
   "id": "519953a5",
   "metadata": {},
   "source": [
    "1. Write a Python program to find sum of elements in list?"
   ]
  },
  {
   "cell_type": "code",
   "execution_count": 3,
   "id": "8020d247",
   "metadata": {},
   "outputs": [
    {
     "name": "stdout",
     "output_type": "stream",
     "text": [
      "sum is= 15\n"
     ]
    }
   ],
   "source": [
    "#list\n",
    "a=[1,2,3,4,5]\n",
    "sum1=0\n",
    "for i in a:\n",
    "    sum1=sum1+a[i-1]\n",
    "print(\"sum is=\",sum1)\n",
    "\n"
   ]
  },
  {
   "cell_type": "markdown",
   "id": "4bd9bc4b",
   "metadata": {},
   "source": [
    "2. Write a Python program to Multiply all numbers in the list?"
   ]
  },
  {
   "cell_type": "code",
   "execution_count": 5,
   "id": "58101dc8",
   "metadata": {},
   "outputs": [
    {
     "name": "stdout",
     "output_type": "stream",
     "text": [
      "120\n"
     ]
    }
   ],
   "source": [
    "#list\n",
    "a=[1,2,3,4,5]\n",
    "mul=1\n",
    "for i in a:\n",
    "    mul=mul*i\n",
    "print(mul)"
   ]
  },
  {
   "cell_type": "markdown",
   "id": "01e2c117",
   "metadata": {},
   "source": [
    "3. Write a Python program to find smallest number in a list?"
   ]
  },
  {
   "cell_type": "code",
   "execution_count": 11,
   "id": "a21f5e2b",
   "metadata": {},
   "outputs": [
    {
     "name": "stdout",
     "output_type": "stream",
     "text": [
      "smallest element is 1\n"
     ]
    }
   ],
   "source": [
    "#list\n",
    "a=[22,3,44,66,1]\n",
    "a.sort()\n",
    "print(\"smallest element is\",a[0])"
   ]
  },
  {
   "cell_type": "markdown",
   "id": "ed35816b",
   "metadata": {},
   "source": [
    "4. Write a Python program to find largest number in a list?"
   ]
  },
  {
   "cell_type": "code",
   "execution_count": 18,
   "id": "e96865f8",
   "metadata": {},
   "outputs": [
    {
     "name": "stdout",
     "output_type": "stream",
     "text": [
      "eneter the number of elements in list5\n",
      "enter the elements2\n",
      "enter the elements7\n",
      "enter the elements4\n",
      "enter the elements5\n",
      "largest number is 7\n"
     ]
    }
   ],
   "source": [
    "# here taking user inputs\n",
    "n=int(input(\"eneter the number of elements in list\"))\n",
    "list1=[]\n",
    "for i in range(1,n):\n",
    "    a=int(input(\"enter the elements\"))\n",
    "    list1.append(a)\n",
    "print(\"largest number is\",max(list1))\n",
    "    "
   ]
  },
  {
   "cell_type": "markdown",
   "id": "2fc73e51",
   "metadata": {},
   "source": [
    "5. Write a Python program to find second largest number in a list?"
   ]
  },
  {
   "cell_type": "code",
   "execution_count": 2,
   "id": "0ee74f88",
   "metadata": {},
   "outputs": [
    {
     "name": "stdout",
     "output_type": "stream",
     "text": [
      "eneter the number of elements in list7\n",
      "enter the elements3\n",
      "enter the elements4\n",
      "enter the elements5\n",
      "enter the elements4\n",
      "enter the elements3\n",
      "enter the elements4\n",
      " second largest number is 4\n"
     ]
    }
   ],
   "source": [
    "n=int(input(\"eneter the number of elements in list\"))\n",
    "list1=[]\n",
    "list2=[]\n",
    "for i in range(1,n):\n",
    "    a=int(input(\"enter the elements\"))\n",
    "    list1.append(a)\n",
    "    \n",
    "list2=list(set(list1))\n",
    "list2.sort()\n",
    "print(\" second largest number is\",list2[-2])\n",
    "    \n"
   ]
  },
  {
   "cell_type": "markdown",
   "id": "18e9d826",
   "metadata": {},
   "source": [
    "6. Write a Python program to find N largest elements from a list?"
   ]
  },
  {
   "cell_type": "code",
   "execution_count": 20,
   "id": "a14288c8",
   "metadata": {},
   "outputs": [
    {
     "name": "stdout",
     "output_type": "stream",
     "text": [
      "eneter the number of elements in list6\n",
      "eneter the value of N=3\n",
      "enter the elements55\n",
      "enter the elements66\n",
      "enter the elements77\n",
      "enter the elements8\n",
      "enter the elements99\n",
      " largest N numbers are [99, 77]\n"
     ]
    }
   ],
   "source": [
    "n=int(input(\"eneter the number of elements in list\"))\n",
    "o=int(input(\"eneter the value of N=\"))\n",
    "list1=[]\n",
    "list2=[]\n",
    "for i in range(1,n):\n",
    "    a=int(input(\"enter the elements\"))\n",
    "    list1.append(a)\n",
    "list2=list(set(list1))\n",
    "list2.sort()\n",
    "print(\" largest N numbers are\",list2[-1:-o:-1])\n",
    "    "
   ]
  },
  {
   "cell_type": "markdown",
   "id": "6f70c5c4",
   "metadata": {},
   "source": []
  },
  {
   "cell_type": "code",
   "execution_count": null,
   "id": "2964ba61",
   "metadata": {},
   "outputs": [],
   "source": [
    "7. Write a Python program to print even numbers in a list?"
   ]
  },
  {
   "cell_type": "code",
   "execution_count": 21,
   "id": "03adbdea",
   "metadata": {},
   "outputs": [
    {
     "name": "stdout",
     "output_type": "stream",
     "text": [
      "eneter the number of elements in list7\n",
      "enter the elements1\n",
      "enter the elements2\n",
      "enter the elements3\n",
      "enter the elements4\n",
      "enter the elements5\n",
      "enter the elements6\n",
      "2\n",
      "4\n",
      "6\n"
     ]
    }
   ],
   "source": [
    "n=int(input(\"eneter the number of elements in list\"))\n",
    "list1=[]\n",
    "for i in range(1,n):\n",
    "    a=int(input(\"enter the elements\"))\n",
    "    list1.append(a)\n",
    "for i in list1:\n",
    "    if i%2==0:\n",
    "        print(i)\n",
    "    else:\n",
    "        continue"
   ]
  },
  {
   "cell_type": "markdown",
   "id": "b0ab1b57",
   "metadata": {},
   "source": [
    "8. Write a Python program to print odd numbers in a List?"
   ]
  },
  {
   "cell_type": "code",
   "execution_count": 22,
   "id": "b49cbe14",
   "metadata": {},
   "outputs": [
    {
     "name": "stdout",
     "output_type": "stream",
     "text": [
      "eneter the number of elements in list7\n",
      "enter the elements1\n",
      "enter the elements2\n",
      "enter the elements3\n",
      "enter the elements4\n",
      "enter the elements5\n",
      "enter the elements6\n",
      "1\n",
      "3\n",
      "5\n"
     ]
    }
   ],
   "source": [
    "n=int(input(\"eneter the number of elements in list\"))\n",
    "list1=[]\n",
    "for i in range(1,n):\n",
    "    a=int(input(\"enter the elements\"))\n",
    "    list1.append(a)\n",
    "for i in list1:\n",
    "    if i%2!=0:\n",
    "        print(i)\n",
    "    else:\n",
    "        continue"
   ]
  },
  {
   "cell_type": "markdown",
   "id": "6f44b048",
   "metadata": {},
   "source": [
    "9. Write a Python program to Remove empty List from List?"
   ]
  },
  {
   "cell_type": "code",
   "execution_count": 31,
   "id": "f1d22619",
   "metadata": {},
   "outputs": [],
   "source": [
    "a=[1,2,3,[],6,[4],[]]\n",
    "# Empty list has to be removed\n",
    "for i in a:\n",
    "    if type(i)==list:\n",
    "        if len(i)==0:\n",
    "            a.remove(i)\n",
    "        else:\n",
    "            continue\n",
    "    else:\n",
    "        continue\n",
    "        "
   ]
  },
  {
   "cell_type": "code",
   "execution_count": 33,
   "id": "138cfa1d",
   "metadata": {},
   "outputs": [
    {
     "data": {
      "text/plain": [
       "[1, 2, 3, 6, [4]]"
      ]
     },
     "execution_count": 33,
     "metadata": {},
     "output_type": "execute_result"
    }
   ],
   "source": [
    "a"
   ]
  },
  {
   "cell_type": "markdown",
   "id": "f9b0f639",
   "metadata": {},
   "source": [
    "10. Write a Python program to Cloning or Copying a list?"
   ]
  },
  {
   "cell_type": "code",
   "execution_count": 50,
   "id": "f3fca053",
   "metadata": {},
   "outputs": [
    {
     "name": "stdout",
     "output_type": "stream",
     "text": [
      "Original List: [4, 8, 2, 10, 15, 18]\n",
      "After Cloning: [4, 8, 2, 10, 15, 18]\n"
     ]
    }
   ],
   "source": [
    "def Cloning(li1):\n",
    "    li_copy = li1[:]\n",
    "    return li_copy\n",
    "li1 = [4, 8, 2, 10, 15, 18]\n",
    "li2 = Cloning(li1)\n",
    "print(\"Original List:\", li1)\n",
    "print(\"After Cloning:\", li2)"
   ]
  },
  {
   "cell_type": "markdown",
   "id": "40046641",
   "metadata": {},
   "source": [
    "11. Write a Python program to Count occurrences of an element in a list?"
   ]
  },
  {
   "cell_type": "code",
   "execution_count": 51,
   "id": "9d9901cb",
   "metadata": {},
   "outputs": [
    {
     "name": "stdout",
     "output_type": "stream",
     "text": [
      "8 has occurred 5 times\n"
     ]
    }
   ],
   "source": [
    "def countX(lst, x):\n",
    "    return lst.count(x)\n",
    " \n",
    "lst = [8, 6, 8, 10, 8, 20, 10, 8, 8]\n",
    "x = 8\n",
    "print('{} has occurred {} times'.format(x, countX(lst, x)))"
   ]
  },
  {
   "cell_type": "code",
   "execution_count": null,
   "id": "66bd5d70",
   "metadata": {},
   "outputs": [],
   "source": [
    "\n"
   ]
  },
  {
   "cell_type": "code",
   "execution_count": null,
   "id": "86bc5d1a",
   "metadata": {},
   "outputs": [],
   "source": []
  },
  {
   "cell_type": "code",
   "execution_count": null,
   "id": "832c9c45",
   "metadata": {},
   "outputs": [],
   "source": []
  }
 ],
 "metadata": {
  "kernelspec": {
   "display_name": "Python 3 (ipykernel)",
   "language": "python",
   "name": "python3"
  },
  "language_info": {
   "codemirror_mode": {
    "name": "ipython",
    "version": 3
   },
   "file_extension": ".py",
   "mimetype": "text/x-python",
   "name": "python",
   "nbconvert_exporter": "python",
   "pygments_lexer": "ipython3",
   "version": "3.9.12"
  }
 },
 "nbformat": 4,
 "nbformat_minor": 5
}
