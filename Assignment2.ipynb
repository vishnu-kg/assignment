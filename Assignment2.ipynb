{
 "cells": [
  {
   "cell_type": "markdown",
   "id": "9fd262a7",
   "metadata": {},
   "source": [
    "1.What are the two values of the Boolean data type? How do you write them?\n",
    "   0,1(True and False) are the two values of boolean data type\n",
    "   False=0\n",
    "   True =1"
   ]
  },
  {
   "cell_type": "markdown",
   "id": "6d19c414",
   "metadata": {},
   "source": [
    "2. What are the three different types of Boolean operators?\n",
    "     AND,OR,NOT, Are the thre types of boolean operations"
   ]
  },
  {
   "cell_type": "markdown",
   "id": "5660f33a",
   "metadata": {},
   "source": [
    "3, Make a list of each Boolean operator's truth tables (i.e. every possible combination of Boolean\n",
    "values for the operator and what it evaluate\n",
    "\n",
    "           AND                             OR\n",
    "      \n",
    "      A   B     result                A  B      reult\n",
    "      \n",
    "      0   1      0                    0  1       1\n",
    "      1   1      1                    1  0       1\n",
    "      1   0      0                    1  1       1\n",
    "      0   0      0                    0  0       0\n",
    "      "
   ]
  },
  {
   "cell_type": "markdown",
   "id": "3c818290",
   "metadata": {},
   "source": [
    "4. What are the values of the following expressions?\n",
    "(5>4) and (3 == 5)         :False\n",
    "not (5>4)                  :False\n",
    "(5>4) or (3 == 5)          :True\n",
    "not ((5>4) or (3 == 5))    :False\n",
    "(True and True) and (True == False)   :False\n",
    "(not False) or (not True)             :True"
   ]
  },
  {
   "cell_type": "markdown",
   "id": "2bf4fd96",
   "metadata": {},
   "source": [
    "5,What are the six comparison operators?\n",
    "      >,<,==,!=,<=,>="
   ]
  },
  {
   "cell_type": "markdown",
   "id": "ab1b596a",
   "metadata": {},
   "source": [
    "6. How do you tell the difference between the equal to and assignment operators?Describe a\n",
    "condition and when you would use one.\n",
    "       Equal to operator is used to comparing two values. Assignment operator uses to assiging a value to variable\n",
    "        a=10(After operation value of a will be 10\n",
    "        a==b (comparing a and b if a nad b are same return True)"
   ]
  },
  {
   "cell_type": "markdown",
   "id": "f57610af",
   "metadata": {},
   "source": [
    "#7. Identify the three blocks in this code:\n",
    "spam = 0\n",
    "if spam == 10:\n",
    "    print('eggs')\n",
    "if spam >5:\n",
    "    print('bacon')\n",
    "else:\n",
    "    print('ham')\n",
    "    print('spam')\n",
    "    print('spam')\n",
    "    \n",
    "      output:  ham\n",
    "               spam\n",
    "               spam"
   ]
  },
  {
   "cell_type": "code",
   "execution_count": null,
   "id": "f86ca49c",
   "metadata": {},
   "outputs": [],
   "source": [
    "8. Write code that prints Hello if 1 is stored in spam, prints Howdy if 2 is stored in spam, and prints\n",
    "Greetings! if anything else is stored in spam."
   ]
  },
  {
   "cell_type": "code",
   "execution_count": null,
   "id": "89befbb8",
   "metadata": {},
   "outputs": [],
   "source": [
    "n=int(input(\"value of spam\"))\n",
    "if(n==1):\n",
    "    print(\"hello\")\n",
    "elif(n==2):\n",
    "        print(\"howdy\")\n",
    "else:\n",
    "    print('graatings')"
   ]
  },
  {
   "cell_type": "markdown",
   "id": "d8ebbc75",
   "metadata": {},
   "source": [
    "9.If your programme is stuck in an endless loop, what keys you’ll press?\n",
    "    statement\n",
    "    (f5 can use in key board)\n",
    "          "
   ]
  },
  {
   "cell_type": "markdown",
   "id": "a73cd276",
   "metadata": {},
   "source": [
    "10, How can you tell the difference between break and continue?\n",
    "        Break statement stops the loop.but continue skips the single iteration\n",
    "        "
   ]
  },
  {
   "cell_type": "markdown",
   "id": "d25aa8a2",
   "metadata": {},
   "source": [
    "11. In a for loop, what is the difference between range(10), range(0, 10), and range(0, 10, 1)?\n",
    "      All of them generates memmory location from 0 to 10\n",
    "              "
   ]
  },
  {
   "cell_type": "markdown",
   "id": "ab932d91",
   "metadata": {},
   "source": [
    "12. Write a short program that prints the numbers 1 to 10 using a for loop. Then write an equivalent\n",
    "program that prints the numbers 1 to 10 using a while loop.\n",
    "          "
   ]
  },
  {
   "cell_type": "code",
   "execution_count": null,
   "id": "c7fcc268",
   "metadata": {},
   "outputs": [],
   "source": [
    "for i in range(1,10):\n",
    "    print(i)"
   ]
  },
  {
   "cell_type": "code",
   "execution_count": null,
   "id": "a79c4ca8",
   "metadata": {},
   "outputs": [],
   "source": [
    "i=1\n",
    "while i<10:\n",
    "    print(i)\n",
    "    i=i+1\n",
    "    "
   ]
  },
  {
   "cell_type": "code",
   "execution_count": null,
   "id": "12c521b3",
   "metadata": {},
   "outputs": [],
   "source": []
  },
  {
   "cell_type": "code",
   "execution_count": null,
   "id": "ac760afe",
   "metadata": {},
   "outputs": [],
   "source": []
  }
 ],
 "metadata": {
  "kernelspec": {
   "display_name": "Python 3 (ipykernel)",
   "language": "python",
   "name": "python3"
  },
  "language_info": {
   "codemirror_mode": {
    "name": "ipython",
    "version": 3
   },
   "file_extension": ".py",
   "mimetype": "text/x-python",
   "name": "python",
   "nbconvert_exporter": "python",
   "pygments_lexer": "ipython3",
   "version": "3.9.12"
  }
 },
 "nbformat": 4,
 "nbformat_minor": 5
}
