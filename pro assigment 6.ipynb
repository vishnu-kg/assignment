{
 "cells": [
  {
   "cell_type": "markdown",
   "id": "38115e89",
   "metadata": {},
   "source": [
    "1. Write a Python Program to Display Fibonacci Sequence Using Recursion?\n"
   ]
  },
  {
   "cell_type": "code",
   "execution_count": 16,
   "id": "8273780f",
   "metadata": {},
   "outputs": [
    {
     "name": "stdout",
     "output_type": "stream",
     "text": [
      "enter the number of terms10\n",
      "0\n",
      "1\n",
      "1\n",
      "2\n",
      "3\n",
      "5\n",
      "8\n",
      "13\n",
      "21\n",
      "34\n"
     ]
    }
   ],
   "source": [
    "def fib(n):\n",
    "    if n<=1:\n",
    "        return n\n",
    "    else:\n",
    "        return(fib(n-1)+fib(n-2))\n",
    "\n",
    "n=int(input(\"enter the number of terms\"))\n",
    "for i in range(n):\n",
    "    print(fib(i))\n",
    "        \n",
    "    "
   ]
  },
  {
   "cell_type": "markdown",
   "id": "e45a5242",
   "metadata": {},
   "source": [
    "2. Write a Python Program to Find Factorial of Number Using Recursion?"
   ]
  },
  {
   "cell_type": "code",
   "execution_count": 22,
   "id": "e78ad8ab",
   "metadata": {},
   "outputs": [
    {
     "name": "stdout",
     "output_type": "stream",
     "text": [
      "enter the number5\n",
      "factorial of number is 120\n"
     ]
    }
   ],
   "source": [
    "def fact(n):\n",
    "    if n==1:\n",
    "        return n\n",
    "    else:\n",
    "        return n*fact(n-1)\n",
    "a=int(input(\"enter the number\"))\n",
    "if a==0:\n",
    "    print(\"factorial of number is=1\")\n",
    "else:\n",
    "    print(\"factorial of number is\",fact(a))\n",
    "    "
   ]
  },
  {
   "cell_type": "markdown",
   "id": "eef7f837",
   "metadata": {},
   "source": [
    "3. Write a Python Program to calculate your Body Mass Index?"
   ]
  },
  {
   "cell_type": "code",
   "execution_count": 2,
   "id": "b75269cd",
   "metadata": {},
   "outputs": [
    {
     "name": "stdout",
     "output_type": "stream",
     "text": [
      "enter the weight in kg=40\n",
      "enter the height in meter=1.3\n",
      "body mass index is 23.668639053254434\n"
     ]
    }
   ],
   "source": [
    "def bmi(a,b):\n",
    "    return (a/(b*b))\n",
    "a=float(input(\"enter the weight in kg=\"))\n",
    "b=c=float(input(\"enter the height in meter=\"))\n",
    "print(\"body mass index is\",bmi(a,b))\n",
    "    "
   ]
  },
  {
   "cell_type": "markdown",
   "id": "0a6b1023",
   "metadata": {},
   "source": [
    "4. Write a Python Program to calculate the natural logarithm of any number?"
   ]
  },
  {
   "cell_type": "code",
   "execution_count": 8,
   "id": "03780fdb",
   "metadata": {},
   "outputs": [
    {
     "name": "stdout",
     "output_type": "stream",
     "text": [
      "enter the number2\n",
      "natural log of number is= 0.6931471805599453\n"
     ]
    }
   ],
   "source": [
    "import math\n",
    "a=float(input(\"enter the number\"))\n",
    "b=math.log(a)\n",
    "print(\"natural log of number is=\",b)"
   ]
  },
  {
   "cell_type": "markdown",
   "id": "8885282a",
   "metadata": {},
   "source": [
    "5. Write a Python Program for cube sum of first n natural numbers?"
   ]
  },
  {
   "cell_type": "code",
   "execution_count": 15,
   "id": "8b7d288e",
   "metadata": {},
   "outputs": [
    {
     "name": "stdout",
     "output_type": "stream",
     "text": [
      "Enter the limit3\n",
      "cube sum of first 3 natural numbers 36.0\n"
     ]
    }
   ],
   "source": [
    "def cube(n):\n",
    "    return ((n*n)*(n+1)*(n+1))/4\n",
    "a=int(input(\"Enter the limit\"))\n",
    "print(\"cube sum of first\" ,a, \"natural numbers\",cube(a))"
   ]
  },
  {
   "cell_type": "code",
   "execution_count": null,
   "id": "41ee33dc",
   "metadata": {},
   "outputs": [],
   "source": []
  },
  {
   "cell_type": "code",
   "execution_count": null,
   "id": "f3ae75d2",
   "metadata": {},
   "outputs": [],
   "source": []
  }
 ],
 "metadata": {
  "kernelspec": {
   "display_name": "Python 3 (ipykernel)",
   "language": "python",
   "name": "python3"
  },
  "language_info": {
   "codemirror_mode": {
    "name": "ipython",
    "version": 3
   },
   "file_extension": ".py",
   "mimetype": "text/x-python",
   "name": "python",
   "nbconvert_exporter": "python",
   "pygments_lexer": "ipython3",
   "version": "3.9.12"
  }
 },
 "nbformat": 4,
 "nbformat_minor": 5
}
