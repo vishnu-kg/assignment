{
 "cells": [
  {
   "cell_type": "markdown",
   "id": "00ec5ecc",
   "metadata": {},
   "source": [
    "1. In the below elements which of them are values or an expression? eg:- values can be\n",
    "integer or string and expressions will be mathematical operators.\n",
    "*      - Expression\n",
    "'hello'- value\n",
    "-87.8  - Value\n",
    "-      - Expression\n",
    "/      - Expression\n",
    "+      -Expression\n",
    "6       -Values"
   ]
  },
  {
   "cell_type": "markdown",
   "id": "00fa4847",
   "metadata": {},
   "source": [
    "2,What is the difference between string and variable?\n",
    "\n",
    "     Variables are symbols uses to store data.strings are type of data Used to update variable\n",
    "     s=\"nasa\"\n",
    "     Here s is a variable and nasa is a string"
   ]
  },
  {
   "cell_type": "markdown",
   "id": "4d0ddcc4",
   "metadata": {},
   "source": [
    "3 .Describe three different data types.\n",
    "     int--It indicates integer data types (without decimal points)\n",
    "           ex:2,3,4\n",
    "     float -- Indicate numbers with floating points\n",
    "      \n",
    "     tuple-- Used to store multiple items in single variable\n",
    "              ex:(3,4,5)"
   ]
  },
  {
   "cell_type": "markdown",
   "id": "9ae20c9a",
   "metadata": {},
   "source": [
    "4. What is an expression made up of? What do all expressions do?\n",
    "   Expression made up of variables,operators,Evaluvation of expression always gives a result value\n",
    "       e=6+8\n",
    "       The result will be 14\n",
    "   \n",
    "   "
   ]
  },
  {
   "cell_type": "markdown",
   "id": "b3c58b9e",
   "metadata": {},
   "source": [
    "5. This assignment statements, like spam = 10. What is the difference between an\n",
    "expression and a statement?\n",
    "\n",
    "     Evaluvation of expression always produces a reult value..The statements may or may not give results\n",
    "     3+4----Expression\n",
    "        print(5)----Statement"
   ]
  },
  {
   "cell_type": "markdown",
   "id": "95e267e0",
   "metadata": {},
   "source": [
    "6. After running the following code, what does the variable bacon contain?\n",
    "    bacon = 22\n",
    "    bacon + 1\n",
    "         It will be 23"
   ]
  },
  {
   "cell_type": "code",
   "execution_count": 1,
   "id": "eac59ff1",
   "metadata": {},
   "outputs": [
    {
     "data": {
      "text/plain": [
       "23"
      ]
     },
     "execution_count": 1,
     "metadata": {},
     "output_type": "execute_result"
    }
   ],
   "source": [
    "    bacon = 22\n",
    "    bacon + 1"
   ]
  },
  {
   "cell_type": "markdown",
   "id": "9c6a08cf",
   "metadata": {},
   "source": [
    "7. What should the values of the following two terms be?\n",
    "     \n",
    "    'spam'+'spamspam'==='spamspamspam'\n",
    "      'spam'*3       ==='spamspamspam'"
   ]
  },
  {
   "cell_type": "markdown",
   "id": "0a185fc0",
   "metadata": {},
   "source": [
    "8. Why is eggs a valid variable name while 100 is invalid?\n",
    "     A variable cannotbe start with a number,100 is a number.Egg is valid because it starts with an alphabet"
   ]
  },
  {
   "cell_type": "markdown",
   "id": "726f749c",
   "metadata": {},
   "source": [
    "9. What three functions can be used to get the integer, floating-point number, or string\n",
    "version of a value?\n",
    "    int()\n",
    "    float()\n",
    "    str()"
   ]
  },
  {
   "cell_type": "code",
   "execution_count": null,
   "id": "704e3976",
   "metadata": {},
   "outputs": [],
   "source": [
    "10. Why does this expression cause an error? How can you fix it?\n",
    "    'I have eaten'+99+'burritos'\n",
    "      A string cannot concatenate with an integer.Both should be in same data type\n",
    "      correct:   'I have eaten'+'99'+'burritos'"
   ]
  }
 ],
 "metadata": {
  "kernelspec": {
   "display_name": "Python 3 (ipykernel)",
   "language": "python",
   "name": "python3"
  },
  "language_info": {
   "codemirror_mode": {
    "name": "ipython",
    "version": 3
   },
   "file_extension": ".py",
   "mimetype": "text/x-python",
   "name": "python",
   "nbconvert_exporter": "python",
   "pygments_lexer": "ipython3",
   "version": "3.9.12"
  }
 },
 "nbformat": 4,
 "nbformat_minor": 5
}
