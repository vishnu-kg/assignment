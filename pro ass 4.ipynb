{
 "cells": [
  {
   "cell_type": "markdown",
   "id": "ae2e9914",
   "metadata": {},
   "source": [
    "1. Write a Python Program to Find the Factorial of a Number?"
   ]
  },
  {
   "cell_type": "code",
   "execution_count": 6,
   "id": "d675b11d",
   "metadata": {},
   "outputs": [
    {
     "name": "stdout",
     "output_type": "stream",
     "text": [
      "enter the number11\n",
      "39916800\n"
     ]
    }
   ],
   "source": [
    "a=int(input('enter the number'))\n",
    "fact=1\n",
    "i=1\n",
    "while i<=a:\n",
    "    fact=fact*i\n",
    "    i=i+1\n",
    "print(fact)    \n",
    "    \n"
   ]
  },
  {
   "cell_type": "markdown",
   "id": "25890421",
   "metadata": {},
   "source": [
    "2. Write a Python Program to Display the multiplication Table?"
   ]
  },
  {
   "cell_type": "code",
   "execution_count": 15,
   "id": "1f6e25fb",
   "metadata": {},
   "outputs": [
    {
     "name": "stdout",
     "output_type": "stream",
     "text": [
      "Enter the number10\n",
      "10 * 1 = 10\n",
      "10 * 2 = 20\n",
      "10 * 3 = 30\n",
      "10 * 4 = 40\n",
      "10 * 5 = 50\n",
      "10 * 6 = 60\n",
      "10 * 7 = 70\n",
      "10 * 8 = 80\n",
      "10 * 9 = 90\n",
      "10 * 10 = 100\n"
     ]
    }
   ],
   "source": [
    "a=int(input('Enter the number'))\n",
    "for i in range(1,11):\n",
    "    print(a,'*',i,'=',a*i)\n",
    "    "
   ]
  },
  {
   "cell_type": "markdown",
   "id": "b22f4e47",
   "metadata": {},
   "source": [
    "3,Write a Python Program to Print the Fibonacci sequence?"
   ]
  },
  {
   "cell_type": "code",
   "execution_count": 21,
   "id": "79c97168",
   "metadata": {},
   "outputs": [
    {
     "name": "stdout",
     "output_type": "stream",
     "text": [
      "enter the number20\n",
      "1\n",
      "1\n",
      "2\n",
      "3\n",
      "5\n",
      "8\n",
      "13\n",
      "21\n",
      "34\n",
      "55\n",
      "89\n",
      "144\n",
      "233\n",
      "377\n",
      "610\n",
      "987\n",
      "1597\n",
      "2584\n",
      "4181\n",
      "6765\n"
     ]
    }
   ],
   "source": [
    "c=int(input(\"enter the number\"))\n",
    "a=0\n",
    "b=1\n",
    "for i in range(c):\n",
    "    a,b=b,a+b\n",
    "    print(a)\n",
    "    "
   ]
  },
  {
   "cell_type": "markdown",
   "id": "f22657a8",
   "metadata": {},
   "source": [
    "4. Write a Python Program to Check Armstrong Number?"
   ]
  },
  {
   "cell_type": "code",
   "execution_count": null,
   "id": "f60e8ebb",
   "metadata": {},
   "outputs": [],
   "source": [
    "num=int(input(\"enter the number to be checked\"))\n",
    "a=num\n",
    "sum1=0\n",
    "while a>0:\n",
    "    k=a%10\n",
    "    sum1+=(k**3)\n",
    "    a=a//10\n",
    "if sum1==num:\n",
    "    print('amstrong number')\n",
    "else:\n",
    "    print('it is not amstrong number')\n",
    "\n",
    "\n",
    "\n"
   ]
  },
  {
   "cell_type": "markdown",
   "id": "396a02d5",
   "metadata": {},
   "source": [
    "5. Write a Python Program to Find Armstrong Number in an Interval?"
   ]
  },
  {
   "cell_type": "code",
   "execution_count": 6,
   "id": "aa1eae25",
   "metadata": {},
   "outputs": [
    {
     "name": "stdout",
     "output_type": "stream",
     "text": [
      "enter the lower boundary111\n",
      "enter thge upper boundary999\n",
      "153\n",
      "370\n",
      "371\n",
      "407\n"
     ]
    }
   ],
   "source": [
    "a=int(input(\"enter the lower boundary\"))\n",
    "b=int(input(\"enter thge upper boundary\"))\n",
    "for i in range(a,b):\n",
    "    temp=i\n",
    "    add=0\n",
    "    while temp>0:\n",
    "        k=temp%10\n",
    "        add=add+(k**3)\n",
    "        temp=temp//10\n",
    "    if i==add:\n",
    "        print(i)\n",
    "    \n",
    "        \n",
    "    \n",
    "    "
   ]
  },
  {
   "cell_type": "markdown",
   "id": "5c40b5aa",
   "metadata": {},
   "source": [
    "6. Write a Python Program to Find the Sum of Natural Numbers?"
   ]
  },
  {
   "cell_type": "code",
   "execution_count": 10,
   "id": "530d4b52",
   "metadata": {},
   "outputs": [
    {
     "name": "stdout",
     "output_type": "stream",
     "text": [
      "enter the number22\n",
      "253\n"
     ]
    }
   ],
   "source": [
    "a=int(input('enter the number'))\n",
    "sum1=0\n",
    "while  a>0:\n",
    "    sum1=sum1+a\n",
    "    a=a-1\n",
    "print(sum1)\n",
    "    "
   ]
  },
  {
   "cell_type": "code",
   "execution_count": null,
   "id": "bb2bd0f6",
   "metadata": {},
   "outputs": [],
   "source": []
  },
  {
   "cell_type": "code",
   "execution_count": null,
   "id": "090b41c0",
   "metadata": {},
   "outputs": [],
   "source": []
  },
  {
   "cell_type": "code",
   "execution_count": null,
   "id": "c427804f",
   "metadata": {},
   "outputs": [],
   "source": []
  },
  {
   "cell_type": "code",
   "execution_count": null,
   "id": "765a86c1",
   "metadata": {},
   "outputs": [],
   "source": []
  },
  {
   "cell_type": "code",
   "execution_count": null,
   "id": "e2849417",
   "metadata": {},
   "outputs": [],
   "source": []
  }
 ],
 "metadata": {
  "kernelspec": {
   "display_name": "Python 3 (ipykernel)",
   "language": "python",
   "name": "python3"
  },
  "language_info": {
   "codemirror_mode": {
    "name": "ipython",
    "version": 3
   },
   "file_extension": ".py",
   "mimetype": "text/x-python",
   "name": "python",
   "nbconvert_exporter": "python",
   "pygments_lexer": "ipython3",
   "version": "3.9.12"
  }
 },
 "nbformat": 4,
 "nbformat_minor": 5
}
