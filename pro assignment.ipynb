{
 "cells": [
  {
   "cell_type": "markdown",
   "id": "8ce155d6",
   "metadata": {},
   "source": [
    "1. Write a Python program to print \"Hello Python\"quot?"
   ]
  },
  {
   "cell_type": "code",
   "execution_count": 1,
   "id": "7a68aac3",
   "metadata": {},
   "outputs": [
    {
     "name": "stdout",
     "output_type": "stream",
     "text": [
      "hello python\n"
     ]
    }
   ],
   "source": [
    "print(\"hello python\")"
   ]
  },
  {
   "cell_type": "markdown",
   "id": "6fa8afdd",
   "metadata": {},
   "source": [
    "2. Write a Python program to do arithmetical operations addition and division.?"
   ]
  },
  {
   "cell_type": "code",
   "execution_count": 2,
   "id": "eae71a3d",
   "metadata": {},
   "outputs": [
    {
     "name": "stdout",
     "output_type": "stream",
     "text": [
      "0.3333333333333333\n",
      "14\n"
     ]
    }
   ],
   "source": [
    "a=3/9\n",
    "b=8+6\n",
    "print(a)\n",
    "print(b)"
   ]
  },
  {
   "cell_type": "markdown",
   "id": "9de4c242",
   "metadata": {},
   "source": [
    "3. Write a Python program to find the area of a triangle?"
   ]
  },
  {
   "cell_type": "code",
   "execution_count": 2,
   "id": "bfc617a3",
   "metadata": {},
   "outputs": [
    {
     "name": "stdout",
     "output_type": "stream",
     "text": [
      "enter breadth3\n",
      "enter heigth3\n",
      "area of traingle is 4.5\n"
     ]
    }
   ],
   "source": [
    "b=int(input('enter breadth'))\n",
    "h=int(input(\"enter heigth\"))\n",
    "print(\"area of traingle is\",(0.5*b*h))\n",
    "      "
   ]
  },
  {
   "cell_type": "code",
   "execution_count": null,
   "id": "4e7d6ce6",
   "metadata": {},
   "outputs": [],
   "source": [
    "\n"
   ]
  },
  {
   "cell_type": "markdown",
   "id": "2abc3681",
   "metadata": {},
   "source": [
    "4. Write a Python program to swap two variables?"
   ]
  },
  {
   "cell_type": "code",
   "execution_count": 5,
   "id": "162c0a87",
   "metadata": {},
   "outputs": [
    {
     "name": "stdout",
     "output_type": "stream",
     "text": [
      "enter the first variabled\n",
      "enter the second variableg\n",
      "variables before swapping d g\n",
      "After swapping g d\n"
     ]
    }
   ],
   "source": [
    "a=input('enter the first variable')\n",
    "b=input('enter the second variable')\n",
    "print(\"variables before swapping\",a,b)\n",
    "c=0\n",
    "c=a\n",
    "a=b\n",
    "b=c\n",
    "print(\"After swapping\", a,b)\n"
   ]
  },
  {
   "cell_type": "markdown",
   "id": "75f0b846",
   "metadata": {},
   "source": [
    "5. Write a Python program to generate a random number?"
   ]
  },
  {
   "cell_type": "code",
   "execution_count": 1,
   "id": "25234d84",
   "metadata": {},
   "outputs": [
    {
     "name": "stdout",
     "output_type": "stream",
     "text": [
      "8\n"
     ]
    }
   ],
   "source": [
    "import random\n",
    "print(random.randint(0,9))"
   ]
  },
  {
   "cell_type": "code",
   "execution_count": null,
   "id": "e2dfac58",
   "metadata": {},
   "outputs": [],
   "source": []
  }
 ],
 "metadata": {
  "kernelspec": {
   "display_name": "Python 3 (ipykernel)",
   "language": "python",
   "name": "python3"
  },
  "language_info": {
   "codemirror_mode": {
    "name": "ipython",
    "version": 3
   },
   "file_extension": ".py",
   "mimetype": "text/x-python",
   "name": "python",
   "nbconvert_exporter": "python",
   "pygments_lexer": "ipython3",
   "version": "3.9.12"
  }
 },
 "nbformat": 4,
 "nbformat_minor": 5
}
