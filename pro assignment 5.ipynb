{
 "cells": [
  {
   "cell_type": "markdown",
   "id": "11feb9bb",
   "metadata": {},
   "source": [
    "1. Write a Python Program to Find HCF?"
   ]
  },
  {
   "cell_type": "code",
   "execution_count": 12,
   "id": "fc652405",
   "metadata": {},
   "outputs": [
    {
     "name": "stdout",
     "output_type": "stream",
     "text": [
      "enter the first number40\n",
      "enter the second number60\n",
      "HCF of given umber is 20\n"
     ]
    }
   ],
   "source": [
    "a=int(input(\"enter the first number\"))\n",
    "b=int(input(\"enter the second number\"))\n",
    "for i in range(2,b+1):\n",
    "    if(a%i==0) and (b%i==0):\n",
    "        hcf=i\n",
    "print(\"HCF of given umber is\",hcf)\n",
    "    \n",
    "    \n"
   ]
  },
  {
   "cell_type": "markdown",
   "id": "43339294",
   "metadata": {},
   "source": [
    "2. Write a Python Program to Find LCM?"
   ]
  },
  {
   "cell_type": "code",
   "execution_count": 16,
   "id": "3ba0190f",
   "metadata": {},
   "outputs": [
    {
     "name": "stdout",
     "output_type": "stream",
     "text": [
      "enter the first number40\n",
      "enter the second number60\n",
      "LCM of given umber is 120.0\n"
     ]
    }
   ],
   "source": [
    "a=int(input(\"enter the first number\"))\n",
    "b=int(input(\"enter the second number\"))\n",
    "for i in range(2,b+1):\n",
    "    if(a%i==0) and (b%i==0):\n",
    "        hcf=i\n",
    "print(\"LCM of given umber is\",(a*b)/hcf)"
   ]
  },
  {
   "cell_type": "markdown",
   "id": "7576a017",
   "metadata": {},
   "source": [
    "3. Write a Python Program to Convert Decimal to Binary, Octal and Hexadecimal?"
   ]
  },
  {
   "cell_type": "code",
   "execution_count": 22,
   "id": "a17ec61b",
   "metadata": {},
   "outputs": [
    {
     "name": "stdout",
     "output_type": "stream",
     "text": [
      "enter the number to be converted10\n",
      "binary number of 10 is 0b1010\n",
      "octal number of 10 is 0o12\n",
      "hexa_decimal number of 10 is 0xa\n"
     ]
    }
   ],
   "source": [
    "a=int(input(\"enter the number to be converted\"))\n",
    "print(\"binary number of\",a,\"is\",bin(a))\n",
    "print(\"octal number of\",a,\"is\",oct(a))\n",
    "print(\"hexa_decimal number of\",a,\"is\",hex(a))"
   ]
  },
  {
   "cell_type": "markdown",
   "id": "6ee50e99",
   "metadata": {},
   "source": [
    "4. Write a Python Program To Find ASCII value of a character?"
   ]
  },
  {
   "cell_type": "code",
   "execution_count": 30,
   "id": "4b43989f",
   "metadata": {},
   "outputs": [
    {
     "name": "stdout",
     "output_type": "stream",
     "text": [
      "enter the characterh\n",
      "ASCII VALUE OF h IS 104\n"
     ]
    }
   ],
   "source": [
    "a=input(\"enter the character\")\n",
    "print(\"ASCII VALUE OF\",a,\"IS\",ord(a))"
   ]
  },
  {
   "cell_type": "markdown",
   "id": "5fb13a15",
   "metadata": {},
   "source": [
    "5. Write a Python Program to Make a Simple Calculator with 4 basic mathematical operations?"
   ]
  },
  {
   "cell_type": "code",
   "execution_count": 31,
   "id": "48af6441",
   "metadata": {},
   "outputs": [
    {
     "name": "stdout",
     "output_type": "stream",
     "text": [
      "Please select the operation.\n",
      "a. Add\n",
      "b. Subtract\n",
      "c. Multiply\n",
      "d. Divide\n",
      "Please enter choice (a/ b/ c/ d): a\n",
      "Please enter the first number: 33\n",
      "Please enter the second number: 33\n",
      "33  +  33  =  66\n"
     ]
    }
   ],
   "source": [
    "def add(P, Q):       \n",
    "    return P + Q   \n",
    "def subtract(P, Q):    \n",
    "    return P - Q   \n",
    "def multiply(P, Q):       \n",
    "    return P * Q   \n",
    "def divide(P, Q):      \n",
    "    return P / Q    \n",
    "    \n",
    "print (\"Please select the operation.\")    \n",
    "print (\"a. Add\")    \n",
    "print (\"b. Subtract\")    \n",
    "print (\"c. Multiply\")    \n",
    "print (\"d. Divide\")    \n",
    "    \n",
    "choice = input(\"Please enter choice (a/ b/ c/ d): \")    \n",
    "    \n",
    "num_1 = int (input (\"Please enter the first number: \"))    \n",
    "num_2 = int (input (\"Please enter the second number: \"))    \n",
    "    \n",
    "if choice == 'a':    \n",
    "    print (num_1, \" + \", num_2, \" = \", add(num_1, num_2))    \n",
    "    \n",
    "elif choice == 'b':    \n",
    "    print (num_1, \" - \", num_2, \" = \", subtract(num_1, num_2))    \n",
    "    \n",
    "elif choice == 'c':    \n",
    "    print (num1, \" * \", num2, \" = \", multiply(num1, num2))    \n",
    "elif choice == 'd':    \n",
    "    print (num_1, \" / \", num_2, \" = \", divide(num_1, num_2))    \n",
    "else:    \n",
    "    print (\"This is an invalid input\")    "
   ]
  },
  {
   "cell_type": "code",
   "execution_count": null,
   "id": "22660085",
   "metadata": {},
   "outputs": [],
   "source": []
  }
 ],
 "metadata": {
  "kernelspec": {
   "display_name": "Python 3 (ipykernel)",
   "language": "python",
   "name": "python3"
  },
  "language_info": {
   "codemirror_mode": {
    "name": "ipython",
    "version": 3
   },
   "file_extension": ".py",
   "mimetype": "text/x-python",
   "name": "python",
   "nbconvert_exporter": "python",
   "pygments_lexer": "ipython3",
   "version": "3.9.12"
  }
 },
 "nbformat": 4,
 "nbformat_minor": 5
}
