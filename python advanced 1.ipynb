{
 "cells": [
  {
   "cell_type": "markdown",
   "id": "c810a3e0",
   "metadata": {},
   "source": [
    "Q1. What is the purpose of Python's OOP?\n",
    "    \n",
    "    ans)OOPS programming makes program easy to understand. Code maintanance can be easily done.The main advantage is code reusability"
   ]
  },
  {
   "cell_type": "markdown",
   "id": "1b8160f3",
   "metadata": {},
   "source": [
    "Q2. Where does an inheritance search look for an attribute?\n",
    "     \n",
    "      ans)An inheritance search looks for an attribute first in the instance object, then in the class the instance was created from, then in all higher superclasses, progressing from left to right"
   ]
  },
  {
   "cell_type": "markdown",
   "id": "3f5518b4",
   "metadata": {},
   "source": [
    "Q3. How do you distinguish between a class object and an instance object?\n",
    "\n",
    "     ans)A class is act like blue print for creating objects.A class is a logical entity.Class won't allocate memmory space but an object does"
   ]
  },
  {
   "cell_type": "markdown",
   "id": "77f0d9a4",
   "metadata": {},
   "source": [
    "Q4. What makes the first argument in a class’s method function special?\n",
    "\n",
    "    ans)The first argument in a class function is called self.It means we are accepting instance as first argument"
   ]
  },
  {
   "cell_type": "markdown",
   "id": "ac690397",
   "metadata": {},
   "source": [
    "Q5. What is the purpose of the __init__ method?\n",
    "\n",
    "    It is called as constructor in oops . It helps to initialize the variables"
   ]
  },
  {
   "cell_type": "markdown",
   "id": "f56e0a1e",
   "metadata": {},
   "source": [
    "Q6. What is the process for creating a class instance?\n",
    "\n",
    "     ans) Call the class using class name and pass the arguments its __init__ method accepts."
   ]
  },
  {
   "cell_type": "markdown",
   "id": "de56f18a",
   "metadata": {},
   "source": [
    "Q7. What is the process for creating a class?\n",
    "\n",
    "    ans)In Python, a class can be created by using the keyword class, followed by the class name\n",
    "        \n",
    "        ex:\n",
    "           class car:\n",
    "             pass\n",
    "             \n",
    "         we can initialize  variables and create funcions inside the class"
   ]
  },
  {
   "cell_type": "markdown",
   "id": "f32306aa",
   "metadata": {},
   "source": [
    "Q8).How would you define the superclasses of a class?\n",
    "\n",
    "\n",
    "      A class from which a sub class is inherited is known as super class"
   ]
  },
  {
   "cell_type": "code",
   "execution_count": null,
   "id": "cb961050",
   "metadata": {},
   "outputs": [],
   "source": []
  }
 ],
 "metadata": {
  "kernelspec": {
   "display_name": "Python 3 (ipykernel)",
   "language": "python",
   "name": "python3"
  },
  "language_info": {
   "codemirror_mode": {
    "name": "ipython",
    "version": 3
   },
   "file_extension": ".py",
   "mimetype": "text/x-python",
   "name": "python",
   "nbconvert_exporter": "python",
   "pygments_lexer": "ipython3",
   "version": "3.9.12"
  }
 },
 "nbformat": 4,
 "nbformat_minor": 5
}
