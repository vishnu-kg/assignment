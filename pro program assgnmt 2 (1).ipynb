{
 "cells": [
  {
   "cell_type": "markdown",
   "id": "31ec9432",
   "metadata": {},
   "source": [
    "1. Write a Python program to convert kilometers to miles?"
   ]
  },
  {
   "cell_type": "code",
   "execution_count": 2,
   "id": "02d23d86",
   "metadata": {},
   "outputs": [
    {
     "name": "stdout",
     "output_type": "stream",
     "text": [
      "enter the value in KM5\n",
      "5 km= 3.106855 miles\n"
     ]
    }
   ],
   "source": [
    "a=int(input(\"enter the value in KM\"))\n",
    "print(a,\"km=\",a*0.621371,\"miles\")"
   ]
  },
  {
   "cell_type": "markdown",
   "id": "5c3252a5",
   "metadata": {},
   "source": [
    "2. Write a Python program to convert Celsius to Fahrenheit?"
   ]
  },
  {
   "cell_type": "code",
   "execution_count": 3,
   "id": "822cb423",
   "metadata": {},
   "outputs": [
    {
     "name": "stdout",
     "output_type": "stream",
     "text": [
      "Enter the temperature in celsius33\n",
      "temperature in farenheit is 91.4\n"
     ]
    }
   ],
   "source": [
    "b=int(input(\"Enter the temperature in celsius\"))\n",
    "print(\"temperature in farenheit is\",(b*1.8)+32)\n",
    "    "
   ]
  },
  {
   "cell_type": "markdown",
   "id": "9708c2d0",
   "metadata": {},
   "source": [
    "3. Write a Python program to display calendar?"
   ]
  },
  {
   "cell_type": "code",
   "execution_count": 1,
   "id": "488524b7",
   "metadata": {},
   "outputs": [
    {
     "name": "stdout",
     "output_type": "stream",
     "text": [
      "enter year2000\n",
      "enter the month1\n",
      "    January 2000\n",
      "Mo Tu We Th Fr Sa Su\n",
      "                1  2\n",
      " 3  4  5  6  7  8  9\n",
      "10 11 12 13 14 15 16\n",
      "17 18 19 20 21 22 23\n",
      "24 25 26 27 28 29 30\n",
      "31\n",
      "\n"
     ]
    }
   ],
   "source": [
    "import calendar\n",
    "yy=int(input(\"enter year\"))\n",
    "mm=int(input(\"enter the month\"))\n",
    "print(calendar.month(yy,mm))"
   ]
  },
  {
   "cell_type": "markdown",
   "id": "bacd2fd5",
   "metadata": {},
   "source": [
    "4. Write a Python program to solve quadratic equation?"
   ]
  },
  {
   "cell_type": "code",
   "execution_count": 14,
   "id": "8ca563f6",
   "metadata": {},
   "outputs": [
    {
     "name": "stdout",
     "output_type": "stream",
     "text": [
      "enter value of a9\n",
      "enter the value of b0\n",
      "enter c-1\n",
      "real root are  0.3333333333333333 -0.3333333333333333\n"
     ]
    }
   ],
   "source": [
    "a=int(input(\"enter value of a\"))\n",
    "b=int(input(\"enter the value of b\"))\n",
    "c=int(input(\"enter c\"))\n",
    "if a==0:\n",
    "    print('a cannot be zero')\n",
    "else:\n",
    "    if (b*b-(4*a*c))<0:\n",
    "        print(\"there is no real root\")\n",
    "    else:\n",
    "        print(\"real root are \",(-b + (b ** 2 - 4 * a * c) ** 0.5) / (2 * a),(-b - (b ** 2 - 4 * a * c) ** 0.5) / (2 * a))"
   ]
  },
  {
   "cell_type": "markdown",
   "id": "fb28aa8e",
   "metadata": {},
   "source": [
    "5,Write a Python program to swap two variables without temp variable?"
   ]
  },
  {
   "cell_type": "code",
   "execution_count": 7,
   "id": "f5e6a662",
   "metadata": {},
   "outputs": [
    {
     "name": "stdout",
     "output_type": "stream",
     "text": [
      "enter the first variable a=fd\n",
      "enter second variable b=k\n",
      "value of a and b= k fd\n"
     ]
    }
   ],
   "source": [
    "a=input(\"enter the first variable a=\")\n",
    "b=input(\"enter second variable b=\")\n",
    "a,b=b,a\n",
    "print(\"value of a and b=\",   a,b)"
   ]
  },
  {
   "cell_type": "code",
   "execution_count": 1,
   "id": "f37154fa",
   "metadata": {},
   "outputs": [
    {
     "data": {
      "text/plain": [
       "17"
      ]
     },
     "execution_count": 1,
     "metadata": {},
     "output_type": "execute_result"
    }
   ],
   "source": [
    "8+9"
   ]
  },
  {
   "cell_type": "code",
   "execution_count": null,
   "id": "9f5703df",
   "metadata": {},
   "outputs": [],
   "source": []
  }
 ],
 "metadata": {
  "kernelspec": {
   "display_name": "Python 3 (ipykernel)",
   "language": "python",
   "name": "python3"
  },
  "language_info": {
   "codemirror_mode": {
    "name": "ipython",
    "version": 3
   },
   "file_extension": ".py",
   "mimetype": "text/x-python",
   "name": "python",
   "nbconvert_exporter": "python",
   "pygments_lexer": "ipython3",
   "version": "3.9.12"
  }
 },
 "nbformat": 4,
 "nbformat_minor": 5
}
