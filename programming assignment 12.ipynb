{
 "cells": [
  {
   "cell_type": "markdown",
   "id": "264a0f2b",
   "metadata": {},
   "source": [
    "1. Write a Python program to Extract Unique values dictionary values?"
   ]
  },
  {
   "cell_type": "code",
   "execution_count": 30,
   "id": "59038715",
   "metadata": {},
   "outputs": [
    {
     "name": "stdout",
     "output_type": "stream",
     "text": [
      "The original dictionary is :  {'A': [1, 3, 5, 4], 'B': [4, 6, 8, 10], 'C': [6, 12, 4, 8], 'D': [5, 7, 2]}\n",
      "The unique values list is :  [1, 2, 3, 4, 5, 6, 7, 8, 10, 12]\n"
     ]
    }
   ],
   "source": [
    "dict1 = {'A' : [1, 3, 5, 4],\n",
    "             'B' : [4, 6, 8, 10],\n",
    "             'C' : [6, 12, 4 ,8],\n",
    "             'D' : [5, 7, 2]}\n",
    "print(\"The original dictionary is : \" ,dict1)\n",
    "a=list(sorted({ele for val in dict1.values()for ele in val}))\n",
    "print(\"The unique values list is : \" , a) \n",
    "\n"
   ]
  },
  {
   "cell_type": "markdown",
   "id": "a5ac0b1a",
   "metadata": {},
   "source": [
    "2. Write a Python program to find the sum of all items in a dictionary?"
   ]
  },
  {
   "cell_type": "code",
   "execution_count": 43,
   "id": "36220ee2",
   "metadata": {},
   "outputs": [
    {
     "name": "stdout",
     "output_type": "stream",
     "text": [
      "Sum : 600\n"
     ]
    }
   ],
   "source": [
    "def returnSum(myDict):\n",
    " \n",
    "    list = []\n",
    "    for i in myDict:\n",
    "        list.append(myDict[i])\n",
    "    final = sum(list)\n",
    " \n",
    "    return final\n",
    " \n",
    "dict = {'a': 100, 'b': 200, 'c': 300}\n",
    "print(\"Sum :\", returnSum(dict))"
   ]
  },
  {
   "cell_type": "markdown",
   "id": "88b0b080",
   "metadata": {},
   "source": [
    "3. Write a Python program to Merging two Dictionaries?"
   ]
  },
  {
   "cell_type": "code",
   "execution_count": 62,
   "id": "2aad7ea1",
   "metadata": {},
   "outputs": [
    {
     "name": "stdout",
     "output_type": "stream",
     "text": [
      "None\n",
      "{'d': 6, 'c': 4, 'a': 10, 'b': 8}\n"
     ]
    }
   ],
   "source": [
    "def Merge(dict1, dict2):\n",
    "    return(dict2.update(dict1))\n",
    " \n",
    "\n",
    "dict1 = {'a': 10, 'b': 8}\n",
    "dict2 = {'d': 6, 'c': 4}\n",
    " \n",
    "# This returns None\n",
    "print(Merge(dict1, dict2))\n",
    " \n",
    "# changes made in dict2\n",
    "print(dict2)"
   ]
  },
  {
   "cell_type": "markdown",
   "id": "5adab12f",
   "metadata": {},
   "source": [
    "4. Write a Python program to convert key-values list to flat dictionary?"
   ]
  },
  {
   "cell_type": "code",
   "execution_count": 23,
   "id": "38cc9bdc",
   "metadata": {},
   "outputs": [],
   "source": [
    "def flat_dict(a):\n",
    "    b=dict(zip(a[\"language\"],a[\"year\"]))\n",
    "    return b"
   ]
  },
  {
   "cell_type": "code",
   "execution_count": 26,
   "id": "b1b43b8c",
   "metadata": {},
   "outputs": [
    {
     "data": {
      "text/plain": [
       "{'python': 1991, 'java': 1995, 'c/c++': 1980, 'javascript': 1995}"
      ]
     },
     "execution_count": 26,
     "metadata": {},
     "output_type": "execute_result"
    }
   ],
   "source": [
    "dict1={\"language\":['python', 'java', 'c/c++', 'javascript'],\"year\":[1991, 1995, 1980, 1995]}\n",
    "flat_dict(dict1)"
   ]
  },
  {
   "cell_type": "markdown",
   "id": "dc51fa96",
   "metadata": {},
   "source": [
    "5. Write a Python program to insertion at the beginning in OrderedDict?"
   ]
  },
  {
   "cell_type": "code",
   "execution_count": 54,
   "id": "55e8aabc",
   "metadata": {},
   "outputs": [
    {
     "name": "stdout",
     "output_type": "stream",
     "text": [
      "OrderedDict([('6', 'maneesh'), ('1', 'vishnu'), ('2', 'achu'), ('3', 'shiva')])\n"
     ]
    }
   ],
   "source": [
    "from collections import OrderedDict\n",
    "a=[(\"1\",\"vishnu\"),(\"2\",\"achu\"),(\"3\",\"shiva\")]\n",
    "my_or_dict=OrderedDict(a)\n",
    "my_or_dict.update({\"6\":\"maneesh\"})\n",
    "my_or_dict.move_to_end(\"6\",last=False)\n",
    "print(my_or_dict)\n"
   ]
  },
  {
   "cell_type": "markdown",
   "id": "67908ee9",
   "metadata": {},
   "source": [
    "6. Write a Python program to check order of character in string using OrderedDict()?"
   ]
  },
  {
   "cell_type": "code",
   "execution_count": 72,
   "id": "283eeb49",
   "metadata": {},
   "outputs": [],
   "source": [
    "from collections import OrderedDict \n",
    "  \n",
    "def checkOrder(input1, pattern): \n",
    "      \n",
    "    dict = OrderedDict.fromkeys(input1) \n",
    "    for key,value in dict.items(): \n",
    "        if (key == pattern[ptrlen]): \n",
    "            ptrlen = ptrlen + 1\n",
    "        if (ptrlen == (len(pattern))): \n",
    "            return True\n",
    "    return False\n",
    "    input1 = 'engineers rock'\n",
    "    pattern = 'er'\n",
    "    print (checkOrder(input1,pattern)) "
   ]
  },
  {
   "cell_type": "code",
   "execution_count": null,
   "id": "457e4945",
   "metadata": {},
   "outputs": [],
   "source": []
  },
  {
   "cell_type": "markdown",
   "id": "2788bb13",
   "metadata": {},
   "source": [
    "7. Write a Python program to sort Python Dictionaries by Key or Value?"
   ]
  },
  {
   "cell_type": "code",
   "execution_count": 83,
   "id": "18f546bd",
   "metadata": {},
   "outputs": [
    {
     "name": "stdout",
     "output_type": "stream",
     "text": [
      "OrderedDict([('rajnish', '9'), ('ravi', '10'), ('sanjeev', '15'), ('suraj', '32'), ('yash', '2')])\n"
     ]
    }
   ],
   "source": [
    "# Creates a sorted dictionary (sorted by key)\n",
    "from collections import OrderedDict\n",
    " \n",
    "dict = {'ravi': '10', 'rajnish': '9',\n",
    "        'sanjeev': '15', 'yash': '2', 'suraj': '32'}\n",
    "dict1 = OrderedDict(sorted(dict.items()))\n",
    "print(dict1)"
   ]
  },
  {
   "cell_type": "code",
   "execution_count": null,
   "id": "36328dfe",
   "metadata": {},
   "outputs": [],
   "source": []
  }
 ],
 "metadata": {
  "kernelspec": {
   "display_name": "Python 3 (ipykernel)",
   "language": "python",
   "name": "python3"
  },
  "language_info": {
   "codemirror_mode": {
    "name": "ipython",
    "version": 3
   },
   "file_extension": ".py",
   "mimetype": "text/x-python",
   "name": "python",
   "nbconvert_exporter": "python",
   "pygments_lexer": "ipython3",
   "version": "3.9.12"
  }
 },
 "nbformat": 4,
 "nbformat_minor": 5
}
